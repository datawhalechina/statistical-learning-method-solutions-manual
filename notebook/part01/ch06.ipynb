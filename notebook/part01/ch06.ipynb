{
 "cells": [
  {
   "cell_type": "markdown",
   "metadata": {
    "collapsed": true
   },
   "source": [
    "# 第6章 Logistic回归与最大熵模型\n",
    "\n",
    "## 习题6.1\n",
    "&emsp;&emsp;确认Logistic分布属于指数分布族。"
   ]
  },
  {
   "cell_type": "markdown",
   "metadata": {},
   "source": [
    "**解答：**"
   ]
  },
  {
   "cell_type": "markdown",
   "metadata": {},
   "source": [
    "**解答思路：**  \n",
    "\n",
    "1. 列出Logistic分布的定义\n",
    "2. 列出指数分布族的定义\n",
    "3. 通过指数倾斜，证明Logistic分布的分布函数无法表示成指数分布族的分布函数形式"
   ]
  },
  {
   "cell_type": "markdown",
   "metadata": {},
   "source": [
    "**解答步骤：**"
   ]
  },
  {
   "cell_type": "markdown",
   "metadata": {},
   "source": [
    "**第1步：Logistic分布的定义**\n",
    "\n",
    "&emsp;&emsp;根据书中第91页的Logistic分布：\n",
    "> 设$X$是连续随机变量，$X$服从Logistic分布是指$X$具有下列分布函数和密度函数：\n",
    "> \n",
    ">$$\n",
    "F(x) = P(X \\leqslant x) = \\frac{1}{1 + \\text{e}^{-(x-\\mu)/\\gamma}} \\\\\n",
    "f(x) = F'(x) = \\frac{\\text{e}^{-(x-\\mu)/\\gamma}}{\\gamma(1+ \\text{e}^{-(x-\\mu)/\\gamma})^2}\n",
    "$$\n",
    "> \n",
    "> 式中，$\\mu$为位置参数，$\\gamma > 0$为形状参数。"
   ]
  },
  {
   "cell_type": "markdown",
   "metadata": {},
   "source": [
    "**第2步：指数分布族的定义**\n",
    "\n",
    "> 参考指数分布族的Wikipedia：https://en.wikipedia.org/wiki/Exponential_family  \n",
    "> 对于随机变量$x$，在给定参数$\\theta$下，其概率分别满足如下形式：\n",
    "> \n",
    "> $$\n",
    "f(x|\\theta)=h(x)g(\\theta)\\exp(\\eta(\\theta)\\cdot T(x))\n",
    "$$\n",
    "> \n",
    "> 称之为指数分布族。  \n",
    "> 其中：$g(\\theta)$表示归一化系数，$h(x)>0$ "
   ]
  },
  {
   "cell_type": "markdown",
   "metadata": {},
   "source": [
    "**注：**这里我们将通过替换$\\eta(\\theta)$来构造反例分布"
   ]
  },
  {
   "cell_type": "markdown",
   "metadata": {},
   "source": [
    "**第3步：证明Logistic分布的分布函数无法表示成指数分布族的分布函数形式**\n",
    "\n",
    "&emsp;&emsp;根据指数分布族的Wikipedia：https://en.wikipedia.org/wiki/Exponential_family\n",
    "> Other examples of distributions that are not exponential families are the F-distribution, Cauchy distribution, hypergeometric distribution and logistic distribution\n",
    "\n",
    "&emsp;&emsp;可知，Logistic分布不属于指数分布族"
   ]
  },
  {
   "cell_type": "markdown",
   "metadata": {},
   "source": [
    "证明思路：   \n",
    "参考：https://stats.stackexchange.com/questions/275773/does-logistic-distribution-belongs-to-exponential-family \n",
    "\n",
    "1. 设$\\gamma=1$，可得单参数的Logistic分布；\n",
    "2. 计算当$\\mu=0$时，函数$f(x|\\mu=0)$；\n",
    "3. 根据Logistic分布的MGF（矩生成函数），可得$E(\\text{e}^{\\theta x})$；\n",
    "4. 根据指数倾斜的定义，证明单参数$\\theta$的指数倾斜密度函数无法表示成Logistic分布的密度函数形式；可证得，Logistic分布不属于指数分布族；"
   ]
  },
  {
   "cell_type": "markdown",
   "metadata": {},
   "source": [
    "证明步骤："
   ]
  },
  {
   "cell_type": "markdown",
   "metadata": {},
   "source": [
    "1. 单参数Logistic分布：  \n",
    "设$\\gamma=1$，则单参数$\\mu$的Logistic分布：\n",
    "$$\n",
    "f(x|\\mu) = \\frac{\\text{e}^{-(x-\\mu)}}{(1+ \\text{e}^{-(x-\\mu)})^2}\n",
    "$$"
   ]
  },
  {
   "cell_type": "markdown",
   "metadata": {},
   "source": [
    "2. 计算$f(x|\\mu=0)$  \n",
    "$$f(x|\\mu=0) = \\frac{\\text{e}^{-x}}{(1+ \\text{e}^{-x})^2}$$"
   ]
  },
  {
   "cell_type": "markdown",
   "metadata": {},
   "source": [
    "3. Logistic分布的MGF矩生成函数\n",
    "\n",
    "根据Logistic分布的Wikipedia：https://en.wikipedia.org/wiki/Logistic_distribution\n",
    ">  Logistic的MGF矩生成函数$M_X(\\theta)$：\n",
    "$$M_X(\\theta) = \\text{e}^{\\mu t}B(1-st, 1+st)$$ \n",
    "> \n",
    "> 其中$t \\in (-1/s, 1/s)$，$B$表示Beta函数。\n",
    "\n",
    "可知，当$\\mu=0, s=1$时，\n",
    "$$\n",
    "M_X(\\theta) = E(\\text{e}^{\\theta x}) = B(1-\\theta, 1+\\theta), \\quad \\theta \\in (-1, 1)\n",
    "$$"
   ]
  },
  {
   "cell_type": "markdown",
   "metadata": {},
   "source": [
    "4. 证明单参数$\\theta$的指数倾斜密度函数无法表示成Logistic分布的形式\n",
    "\n",
    "根据指数倾斜的Wikipedia：https://en.wikipedia.org/wiki/Exponential_tilting \n",
    "> &emsp;&emsp;给定一个随机变量$X$，其概率分布为$P$，概率密度为$f$和矩生成函数(MGF)为$M_X(\\theta) = E(e^{\\theta x})$，指数倾斜$P_{\\theta}$定义如下：\n",
    "> \n",
    "> $$\n",
    "P_{\\theta}(X \\in dx) = \\frac{E[\\text{e}^{\\theta X} I(X \\in dx)]}{ M_X(\\theta)} = \\text{e}^{\\theta x - k(\\theta)}P(X \\in dx)\n",
    "$$\n",
    "> \n",
    "> &emsp;&emsp;其中，$k(\\theta)$表示为累积生成函数（CGF），即$\\log E(\\text{e}^{\\theta X})$，称$P_{\\theta}(X \\in dx)=f_{\\theta}(x)$为随机变量$X$的$\\theta$-tilted密度分布。"
   ]
  },
  {
   "cell_type": "markdown",
   "metadata": {},
   "source": [
    "&emsp;&emsp;综上，我们将使用$M_X(\\theta)$替换$\\eta(\\theta)$，可知\n",
    "$$\n",
    "f_{\\theta}(x)=\\text{e}^{\\theta x - k(\\theta)} f_0(x)\n",
    "$$\n",
    "\n",
    "&emsp;&emsp;其中，$k(\\theta)= \\log M_X(\\theta) = B(1-\\theta, 1+\\theta), \\quad \\theta \\in (-1, 1)$，根据指数倾斜性质，$f_{\\theta}(x)$无法表示Logistic分布的密度函数形式。  \n",
    "&emsp;&emsp;所以，Logistic分布不属于指数分布族。"
   ]
  },
  {
   "cell_type": "markdown",
   "metadata": {},
   "source": [
    "## 习题6.2\n",
    "&emsp;&emsp;写出Logistic回归模型学习的梯度下降算法。"
   ]
  },
  {
   "cell_type": "markdown",
   "metadata": {},
   "source": [
    "**解答：**"
   ]
  },
  {
   "cell_type": "markdown",
   "metadata": {},
   "source": [
    "**解答思路：**\n",
    "1. 写出Logistic回归模型\n",
    "2. 根据书中附录A梯度下降法，写出Logistic回归模型学习的梯度下降法\n",
    "3. 自编程实现Logistic回归模型学习的梯度下降法"
   ]
  },
  {
   "cell_type": "markdown",
   "metadata": {},
   "source": [
    "**解答步骤：**"
   ]
  },
  {
   "cell_type": "markdown",
   "metadata": {},
   "source": [
    "**第1步：Logistic回归模型**  \n",
    "\n",
    "&emsp;&emsp;根据书中第92页Logistic回归模型的定义：\n",
    "> 二项Logistic回归模型是如下的条件概率分别：\n",
    "> $$\n",
    "P(Y=1 | x)=\\frac{\\exp (w \\cdot x+b)}{1+\\exp (w \\cdot x+b)} \\\\ \n",
    "P(Y=0 | x)=\\frac{1}{1+\\exp (w \\cdot x+b)}\n",
    "$$\n",
    "> \n",
    "> 这里，$x \\in R^n$是输入，$Y \\in \\{0, 1 \\}$是输出，$w \\in R^n$和$b \\in R^n$是参数，$w$称为权值向量，$b$称为偏置，$w \\cdot x$为$w$和$x$的内积。"
   ]
  },
  {
   "cell_type": "markdown",
   "metadata": {},
   "source": [
    "**第2步：Logistic回归模型学习的梯度下降法**"
   ]
  },
  {
   "cell_type": "markdown",
   "metadata": {},
   "source": [
    "&emsp;&emsp;根据书中第93页模型参数估计：\n",
    "> Logistic回归模型的对数似然函数为\n",
    "> $$\n",
    "L(w)=\\sum_{i=1}^N \\left[y_i (w \\cdot x_i)-\\log (1+\\exp (w \\cdot x_i))\\right]\n",
    "$$\n",
    "\n",
    "&emsp;&emsp;将对数似然函数求偏导，可得\n",
    "$$\n",
    "\\frac{\\partial L(w)}{\\partial w^{(k)}}=\\sum_{i=1}^N\\left[x_i \\cdot y_i-\\frac{\\exp (w^{(k)} \\cdot x_i) \\cdot x_i}{1+\\exp (w^{(k)} \\cdot x_i)}\\right]\n",
    "$$  \n",
    "&emsp;&emsp;梯度函数为\n",
    "$$\n",
    "\\nabla L(w)=\\left[\\frac{\\partial L(w)}{\\partial w^{(0)}}, \\cdots, \\frac{\\partial L(w)}{\\partial w^{(n)}}\\right]\n",
    "$$"
   ]
  },
  {
   "cell_type": "markdown",
   "metadata": {},
   "source": [
    "&emsp;&emsp;根据书中第439页附录A 梯度下降法的算法：\n",
    "> 输入：目标函数$f(x)$，梯度函数$g(x)= \\nabla f(x)$，计算精度$\\varepsilon$；  \n",
    "输出：$f(x)$的极小值$x^*$。  \n",
    "(1) 取初始值$x^{(0)} \\in R^n$，置$k=0$  \n",
    "(2) 计算$f(x^{(k)})$  \n",
    "(3) 计算梯度$g_k=g(x^{(k)})$，当$\\|g_k\\| < \\varepsilon$时，停止迭代，令$x^* = x^{(k)}$；否则，令$p_k=-g(x^{(k)})$，求$\\lambda_k$，使\n",
    "> \n",
    "> $$\n",
    "\\displaystyle f(x^{(k)}+\\lambda_k p_k) = \\min \\limits_{\\lambda \\geqslant 0}f(x^{(k)}+\\lambda p_k)\n",
    "$$\n",
    "> (4) 置$x^{(k+1)}=x^{(k)}+\\lambda_k p_k$，计算$f(x^{(k+1)})$  \n",
    "当$\\|f(x^{(k+1)}) - f(x^{(k)})\\| < \\varepsilon$或 $\\|x^{(k+1)} - x^{(k)}\\| < \\varepsilon$时，停止迭代，令$x^* = x^{(k+1)}$  \n",
    "(5) 否则，置$k=k+1$，转(3)"
   ]
  },
  {
   "cell_type": "markdown",
   "metadata": {},
   "source": [
    "Logistic回归模型学习的梯度下降算法：   \n",
    "输入：目标函数$f(w)$，梯度函数$g(w) = \\nabla f(w)$，计算精度$\\varepsilon$  \n",
    "输出：$f(w)$的极大值$w^*$  \n",
    "(1) 取初始值$w^{(0)} \\in R^n$，置$k=0$  \n",
    "(2) 计算$\\displaystyle f(w^{(k)})=\\sum_{i=1}^N \\left[y_i (w^{(k)} \\cdot x_i)-\\log (1+\\exp (w^{(k)} \\cdot x_i))\\right]$  \n",
    "(3) 计算梯度$\\displaystyle g_k=g(w^{(k)})=\\sum_{i=1}^N\\left[x_i \\cdot y_i-\\frac{\\exp (w^{(k)} \\cdot x_i) \\cdot x_i}{1+\\exp (w^{(k)} \\cdot x_i)}\\right]$，当$\\|g_k\\| < \\varepsilon$时，停止迭代，令$w^* = w^{(k)}$；否则，令$p_k=-g(w^{(k)})$，求$\\lambda_k$，使\n",
    "\n",
    "$$\n",
    "\\displaystyle f(w^{(k)}+\\lambda_k p_k) = \\max_{\\lambda \\geqslant 0}f(w^{(k)}+\\lambda p_k)\n",
    "$$  \n",
    "(4) 置$w^{(k+1)}=w^{(k)}+\\lambda_k p_k$，计算$f(w^{(k+1)})$  \n",
    "当$\\|f(w^{(k+1)}) - f(w^{(k)})\\| < \\varepsilon$或 $\\|w^{(k+1)} - w^{(k)}\\| < \\varepsilon$时，停止迭代，令$w^* = w^{(k+1)}$  \n",
    "(5) 否则，置$k=k+1$，转(3)"
   ]
  },
  {
   "cell_type": "markdown",
   "metadata": {},
   "source": [
    "**第3步：自编程实现Logistic回归模型学习的梯度下降法**"
   ]
  },
  {
   "cell_type": "code",
   "execution_count": 1,
   "metadata": {},
   "outputs": [],
   "source": [
    "from scipy.optimize import fminbound\n",
    "from pylab import mpl\n",
    "import numpy as np\n",
    "import matplotlib.pyplot as plt\n",
    "%matplotlib inline\n",
    "\n",
    "# 图像显示中文\n",
    "mpl.rcParams['font.sans-serif'] = ['Microsoft YaHei']\n",
    "\n",
    "\n",
    "class MyLogisticRegression:\n",
    "    def __init__(self, max_iter=10000, distance=3, epsilon=1e-6):\n",
    "        \"\"\"\n",
    "        Logistic回归\n",
    "        :param max_iter: 最大迭代次数 \n",
    "        :param distance: 一维搜索的长度范围\n",
    "        :param epsilon: 迭代停止阈值\n",
    "        \"\"\"\n",
    "        self.max_iter = max_iter\n",
    "        self.epsilon = epsilon\n",
    "        # 权重\n",
    "        self.w = None\n",
    "        self.distance = distance\n",
    "        self._X = None\n",
    "        self._y = None\n",
    "\n",
    "    @staticmethod\n",
    "    def preprocessing(X):\n",
    "        \"\"\"将原始X末尾加上一列，该列数值全部为1\"\"\"\n",
    "        row = X.shape[0]\n",
    "        y = np.ones(row).reshape(row, 1)\n",
    "        return np.hstack((X, y))\n",
    "\n",
    "    @staticmethod\n",
    "    def sigmod(x):\n",
    "        return 1 / (1 + np.exp(-x))\n",
    "\n",
    "    def grad(self, w):\n",
    "        z = np.dot(self._X, w.T)\n",
    "        grad = self._X * (self._y - self.sigmod(z))\n",
    "        grad = grad.sum(axis=0)\n",
    "        return grad\n",
    "\n",
    "    def like_func(self, w):\n",
    "        z = np.dot(self._X, w.T)\n",
    "        f = self._y * z - np.log(1 + np.exp(z))\n",
    "        return np.sum(f)\n",
    "\n",
    "    def fit(self, data_x, data_y):\n",
    "        self._X = self.preprocessing(data_x)\n",
    "        self._y = data_y.T\n",
    "        # （1）取初始化w\n",
    "        w = np.array([[0] * self._X.shape[1]], dtype=np.float)\n",
    "        k = 0\n",
    "        # （2）计算f(w)\n",
    "        fw = self.like_func(w)\n",
    "        for _ in range(self.max_iter):\n",
    "            # 计算梯度g(w)\n",
    "            grad = self.grad(w)\n",
    "            # （3）当梯度g(w)的模长小于精度时，停止迭代\n",
    "            if (np.linalg.norm(grad, axis=0, keepdims=True) < self.epsilon).all():\n",
    "                self.w = w\n",
    "                break\n",
    "\n",
    "            # 梯度方向的一维函数\n",
    "            def f(x):\n",
    "                z = w - np.dot(x, grad)\n",
    "                return -self.like_func(z)\n",
    "\n",
    "            # （3）进行一维搜索，找到使得函数最大的lambda\n",
    "            _lambda = fminbound(f, -self.distance, self.distance)\n",
    "\n",
    "            # （4）设置w(k+1)\n",
    "            w1 = w - np.dot(_lambda, grad)\n",
    "            fw1 = self.like_func(w1)\n",
    "\n",
    "            # （4）当f(w(k+1))-f(w(k))的二范数小于精度，或w(k+1)-w(k)的二范数小于精度\n",
    "            if np.linalg.norm(fw1 - fw) < self.epsilon or \\\n",
    "                    (np.linalg.norm((w1 - w), axis=0, keepdims=True) < self.epsilon).all():\n",
    "                self.w = w1\n",
    "                break\n",
    "\n",
    "            # （5） 设置k=k+1\n",
    "            k += 1\n",
    "            w, fw = w1, fw1\n",
    "\n",
    "        self.grad_ = grad\n",
    "        self.n_iter_ = k\n",
    "        self.coef_ = self.w[0][:-1]\n",
    "        self.intercept_ = self.w[0][-1]\n",
    "\n",
    "    def predict(self, x):\n",
    "        p = self.sigmod(np.dot(self.preprocessing(x), self.w.T))\n",
    "        p[np.where(p > 0.5)] = 1\n",
    "        p[np.where(p < 0.5)] = 0\n",
    "        return p\n",
    "\n",
    "    def score(self, X, y):\n",
    "        y_c = self.predict(X)\n",
    "        # 计算准确率\n",
    "        error_rate = np.sum(np.abs(y_c - y.T)) / y_c.shape[0]\n",
    "        return 1 - error_rate\n",
    "\n",
    "    def draw(self, X, y):\n",
    "        # 分隔正负实例点\n",
    "        y = y[0]\n",
    "        X_po = X[np.where(y == 1)]\n",
    "        X_ne = X[np.where(y == 0)]\n",
    "        # 绘制数据集散点图\n",
    "        ax = plt.axes(projection='3d')\n",
    "        x_1 = X_po[0, :]\n",
    "        y_1 = X_po[1, :]\n",
    "        z_1 = X_po[2, :]\n",
    "        x_2 = X_ne[0, :]\n",
    "        y_2 = X_ne[1, :]\n",
    "        z_2 = X_ne[2, :]\n",
    "        ax.scatter(x_1, y_1, z_1, c=\"r\", label=\"正实例\")\n",
    "        ax.scatter(x_2, y_2, z_2, c=\"b\", label=\"负实例\")\n",
    "        ax.legend(loc='best')\n",
    "        # 绘制透明度为0.5的分隔超平面\n",
    "        x = np.linspace(-3, 3, 3)\n",
    "        y = np.linspace(-3, 3, 3)\n",
    "        x_3, y_3 = np.meshgrid(x, y)\n",
    "        a, b, c, d = self.w[0]\n",
    "        z_3 = -(a * x_3 + b * y_3 + d) / c\n",
    "        # 调节透明度\n",
    "        ax.plot_surface(x_3, y_3, z_3, alpha=0.5)\n",
    "        plt.show()"
   ]
  },
  {
   "cell_type": "code",
   "execution_count": 2,
   "metadata": {
    "scrolled": true
   },
   "outputs": [
    {
     "data": {
      "image/png": "[encoded data removed]",
      "text/plain": [
       "<Figure size 432x288 with 1 Axes>"
      ]
     },
     "metadata": {
      "needs_background": "light"
     },
     "output_type": "display_data"
    },
    {
     "name": "stdout",
     "output_type": "stream",
     "text": [
      "迭代次数：2095次\n",
      "梯度：[ 7.33881397e-05  2.44073067e-05  2.52604176e-04 -5.13424350e-04]\n",
      "权重：[  4.34496173   2.05340452   9.64074166 -22.85079478]\n",
      "模型准确率：100.00%\n"
     ]
    }
   ],
   "source": [
    "# 训练数据集\n",
    "X_train = np.array([[3, 3, 3], [4, 3, 2], [2, 1, 2], [1, 1, 1], [-1, 0, 1], [2, -2, 1]])\n",
    "y_train = np.array([[1, 1, 1, 0, 0, 0]])\n",
    "# 构建实例，进行训练\n",
    "clf = MyLogisticRegression(epsilon=1e-6)\n",
    "clf.fit(X_train, y_train)\n",
    "clf.draw(X_train, y_train)\n",
    "print(\"迭代次数：{}次\".format(clf.n_iter_))\n",
    "print(\"梯度：{}\".format(clf.grad_))\n",
    "print(\"权重：{}\".format(clf.w[0]))\n",
    "print(\"模型准确率：%0.2f%%\" % (clf.score(X_train, y_train) * 100))"
   ]
  },
  {
   "cell_type": "markdown",
   "metadata": {},
   "source": [
    "## 习题6.3\n",
    "&emsp;&emsp;写出最大熵模型学习的DFP算法。（关于一般的DFP算法参见附录B）"
   ]
  },
  {
   "cell_type": "markdown",
   "metadata": {},
   "source": [
    "**解答：**"
   ]
  },
  {
   "cell_type": "markdown",
   "metadata": {},
   "source": [
    "**解答思路：**\n",
    "1. 写出最大熵模型\n",
    "2. 根据附录B的DFP算法，写出最大熵模型学习的DFP算法\n",
    "3. 自编程实现最大熵模型学习的DFP算法"
   ]
  },
  {
   "cell_type": "markdown",
   "metadata": {},
   "source": [
    "**解答步骤：**"
   ]
  },
  {
   "cell_type": "markdown",
   "metadata": {},
   "source": [
    "**第1步：最大熵模型**\n",
    "\n",
    "&emsp;&emsp;根据书中第98页的最大熵模型的定义：\n",
    "> 假设满足所有约束条件的模型集合为\n",
    "> $$\n",
    "\\mathcal{C} = \\{P \\in \\mathcal{P} | E_P(f_i) = E_{\\tilde{P}}(f_i), \\quad i=1,2,\\cdots,n \\}\n",
    "$$\n",
    "> 定义在条件概率分布$P(Y|X)$上的条件熵为\n",
    "> $$\n",
    "H(P) = -\\sum \\limits_{x,y} \\tilde{P}(x) P(y|x) \\log P(y|x) \n",
    "$$\n",
    "> 则模型集合$\\mathcal{C}$中条件熵$H(P)$最大的模型称为最大熵模型。式中的对数为自然对数。"
   ]
  },
  {
   "cell_type": "markdown",
   "metadata": {},
   "source": [
    "&emsp;&emsp;根据书中第97页最大熵模型的特征函数：\n",
    "> 用特征函数$f(x,y)$描述输入$x$与输出$y$之间的某一个事实。其定义是\n",
    "> $$\n",
    "f(x, y) = \\left \\{ \\begin{array}{ll}\n",
    "1, \\quad x与y满足某一事实 \\\\\n",
    "0, \\quad 否则\n",
    "\\end{array} \\right.\n",
    "$$\n",
    "它是一个二值函数，当$x$和$y$满足这个事实时取值为1，否则取值为0。"
   ]
  },
  {
   "cell_type": "markdown",
   "metadata": {},
   "source": [
    "**第2步：最大熵模型学习的DFP算法**\n",
    "\n",
    "&emsp;&emsp;根据书中第107页的最大熵模型学习：\n",
    "> 对于最大熵模型而言，\n",
    "> $$\n",
    "P_w(y | x)=\\frac{\\displaystyle \\exp \\left(\\sum_{i=1}^n w_i f_i (x, y)\\right)}{\\displaystyle \\sum_y \\exp \\left(\\sum_{i=1}^n w_i f_i(x, y)\\right)} $$\n",
    "> 目标函数：\n",
    "> $$\n",
    "\\min \\limits_{w \\in R^n} \\quad f(w) = \\sum_{x} \\tilde{P}(x) \\log \\sum_{y} \\exp \\left(\\sum_{i=1}^{n} w_{i} f_{i}(x, y)\\right)-\\sum_{x, y} \\tilde{P}(x, y) \\sum_{i=1}^{n} w_{i} f_{i}(x, y)\n",
    "$$\n",
    "> 梯度：\n",
    "> $$\n",
    "g(w) = \\left( \\frac{\\partial f(w)}{\\partial w_1}, \\frac{\\partial f(w)}{\\partial w_2}, \\cdots, \\frac{\\partial f(w)}{\\partial w_n}\\right)^T\n",
    "$$\n",
    "> 其中\n",
    "> $$\n",
    "\\frac{\\partial f(w)}{\\partial w_1} = \\sum \\limits_{x,y} \\tilde{P}(x) P_w(y|x) f_i(x,y) - E_{\\tilde{P}}(f_i), \\quad i=1,2,\\cdots,n\n",
    "$$"
   ]
  },
  {
   "cell_type": "markdown",
   "metadata": {},
   "source": [
    "&emsp;&emsp;根据书中第444页附录B的DFP算法：\n",
    "> 输入：目标函数$f(x)$，梯度$g(x) = \\nabla f(x)$，精度要求$\\varepsilon$；  \n",
    "输出：$f(x)$的极小值点$x^*$  \n",
    "（1）选定初始点$x^{(0)}$，取$G_0$为正定对称矩阵，置$k=0$  \n",
    "（2）计算$g_k=g(x^{(k)})$，若$\\|g_k\\| < \\varepsilon$，则停止计算，得近似解$x^*=x^{(k)}$，否则转（3）    \n",
    "（3）置$p_k=-G_k g_k$  \n",
    "（4）一维搜索：求$\\lambda_k$使得\n",
    "> $$\n",
    "f (x^{(k)}+\\lambda_k p_k )=\\min \\limits_{\\lambda \\geqslant 0} f(x^{(k)}+\\lambda p_{k})\n",
    "$$\n",
    ">（5）置$x^{(k+1)}=x^{(k)}+\\lambda_k p_k$  \n",
    "（6）计算$g_{k+1}=g(x^{(k+1)})$，若$\\|g_{k+1}\\| < \\varepsilon$，则停止计算，得近似解$x^*=x^{(k+1)}$；否则，按照式（B.24）算出$G_{k+1}$  \n",
    "（7）置$k=k+1$，转（3）  "
   ]
  },
  {
   "cell_type": "markdown",
   "metadata": {},
   "source": [
    "&emsp;&emsp;根据公式（B.24），DFP算法的$G_{k+1}$的迭代公式为：\n",
    "\n",
    "$$\n",
    "G_{k+1}=G_k+\\frac{\\delta_k \\delta_k^T}{\\delta_k^T y_k}-\\frac{G_k y_k y_k^T G_k}{y_k^T G_k y_k}\n",
    "$$\n",
    "\n",
    "&emsp;&emsp;其中$y_k= g_{k+1} - g_k, \\delta_k = w^{(k+1)} - w^{(k)}$。"
   ]
  },
  {
   "cell_type": "markdown",
   "metadata": {},
   "source": [
    "最大熵模型的DFP算法：   \n",
    "输入：目标函数$f(w)$，梯度$g(w) = \\nabla f(w)$，精度要求$\\varepsilon$；  \n",
    "输出：$f(w)$的极小值点$w^*$  \n",
    "（1）选定初始点$w^{(0)}$，取$G_0$为正定对称矩阵，置$k=0$  \n",
    "（2）计算$g_k=g(w^{(k)})$，若$\\|g_k\\| < \\varepsilon$，则停止计算，得近似解$w^*=w^{(k)}$，否则转（3）  \n",
    "（3）置$p_k=-G_k g_k$  \n",
    "（4）一维搜索：求$\\lambda_k$使得\n",
    "$$\n",
    "f(w^{(k)}+\\lambda_k p_k) = \\min \\limits_{\\lambda \\geqslant 0} f(w^{(k)}+\\lambda p_k)\n",
    "$$\n",
    "（5）置$w^{(k+1)}=w^{(k)}+\\lambda_k p_k$  \n",
    "（6）计算$g_{k+1}=g(w^{(k+1)})$，若$\\|g_{k+1}\\| < \\varepsilon$，则停止计算，得近似解$w^*=w^{(k+1)}$；否则，按照DFP算法的迭代公式算出$G_{k+1}$  \n",
    "（7）置$k=k+1$，转（3）  "
   ]
  },
  {
   "cell_type": "markdown",
   "metadata": {},
   "source": [
    "**第3步：自编程实现最大熵模型学习的DFP算法**"
   ]
  },
  {
   "cell_type": "code",
   "execution_count": 3,
   "metadata": {},
   "outputs": [],
   "source": [
    "import copy\n",
    "from collections import defaultdict\n",
    "\n",
    "import numpy as np\n",
    "from scipy.optimize import fminbound\n",
    "\n",
    "\n",
    "class MaxEntDFP:\n",
    "    def __init__(self, epsilon, max_iter=1000, distance=0.01):\n",
    "        \"\"\"\n",
    "        最大熵的DFP算法\n",
    "        :param epsilon: 迭代停止阈值\n",
    "        :param max_iter: 最大迭代次数\n",
    "        :param distance: 一维搜索的长度范围\n",
    "        \"\"\"\n",
    "        self.distance = distance\n",
    "        self.epsilon = epsilon\n",
    "        self.max_iter = max_iter\n",
    "        self.w = None\n",
    "        self._dataset_X = None\n",
    "        self._dataset_y = None\n",
    "        # 标签集合，相当去去重后的y\n",
    "        self._y = set()\n",
    "        # key为(x,y), value为对应的索引号ID\n",
    "        self._xyID = {}\n",
    "        # key为对应的索引号ID, value为(x,y)\n",
    "        self._IDxy = {}\n",
    "        # 经验分布p(x,y)\n",
    "        self._pxy_dic = defaultdict(int)\n",
    "        # 样本数\n",
    "        self._N = 0\n",
    "        # 特征键值(x,y)的个数\n",
    "        self._n = 0\n",
    "        # 实际迭代次数\n",
    "        self.n_iter_ = 0\n",
    "\n",
    "    # 初始化参数\n",
    "    def init_params(self, X, y):\n",
    "        self._dataset_X = copy.deepcopy(X)\n",
    "        self._dataset_y = copy.deepcopy(y)\n",
    "        self._N = X.shape[0]\n",
    "\n",
    "        for i in range(self._N):\n",
    "            xi, yi = X[i], y[i]\n",
    "            self._y.add(yi)\n",
    "            for _x in xi:\n",
    "                self._pxy_dic[(_x, yi)] += 1\n",
    "\n",
    "        self._n = len(self._pxy_dic)\n",
    "        # 初始化权重w\n",
    "        self.w = np.zeros(self._n)\n",
    "\n",
    "        for i, xy in enumerate(self._pxy_dic):\n",
    "            self._pxy_dic[xy] /= self._N\n",
    "            self._xyID[xy] = i\n",
    "            self._IDxy[i] = xy\n",
    "\n",
    "    def calc_zw(self, X, w):\n",
    "        \"\"\"书中第100页公式6.23，计算Zw(x)\"\"\"\n",
    "        zw = 0.0\n",
    "        for y in self._y:\n",
    "            zw += self.calc_ewf(X, y, w)\n",
    "        return zw\n",
    "\n",
    "    def calc_ewf(self, X, y, w):\n",
    "        \"\"\"书中第100页公式6.22，计算分子\"\"\"\n",
    "        sum_wf = self.calc_wf(X, y, w)\n",
    "        return np.exp(sum_wf)\n",
    "\n",
    "    def calc_wf(self, X, y, w):\n",
    "        sum_wf = 0.0\n",
    "        for x in X:\n",
    "            if (x, y) in self._pxy_dic:\n",
    "                sum_wf += w[self._xyID[(x, y)]]\n",
    "        return sum_wf\n",
    "\n",
    "    def calc_pw_yx(self, X, y, w):\n",
    "        \"\"\"计算Pw(y|x)\"\"\"\n",
    "        return self.calc_ewf(X, y, w) / self.calc_zw(X, w)\n",
    "\n",
    "    def calc_f(self, w):\n",
    "        \"\"\"计算f(w)\"\"\"\n",
    "        fw = 0.0\n",
    "        for i in range(self._n):\n",
    "            x, y = self._IDxy[i]\n",
    "            for dataset_X in self._dataset_X:\n",
    "                if x not in dataset_X:\n",
    "                    continue\n",
    "                fw += np.log(self.calc_zw(x, w)) - \\\n",
    "                    self._pxy_dic[(x, y)] * self.calc_wf(dataset_X, y, w)\n",
    "\n",
    "        return fw\n",
    "\n",
    "    # DFP算法\n",
    "    def fit(self, X, y):\n",
    "        self.init_params(X, y)\n",
    "\n",
    "        def calc_dfw(i, w):\n",
    "            \"\"\"计算书中第107页的拟牛顿法f(w)的偏导\"\"\"\n",
    "\n",
    "            def calc_ewp(i, w):\n",
    "                \"\"\"计算偏导左边的公式\"\"\"\n",
    "                ep = 0.0\n",
    "                x, y = self._IDxy[i]\n",
    "                for dataset_X in self._dataset_X:\n",
    "                    if x not in dataset_X:\n",
    "                        continue\n",
    "                    ep += self.calc_pw_yx(dataset_X, y, w) / self._N\n",
    "                return ep\n",
    "\n",
    "            def calc_ep(i):\n",
    "                \"\"\"计算关于经验分布P(x,y)的期望值\"\"\"\n",
    "                (x, y) = self._IDxy[i]\n",
    "                return self._pxy_dic[(x, y)]\n",
    "\n",
    "            return calc_ewp(i, w) - calc_ep(i)\n",
    "\n",
    "        # 算出g(w)，是n*1维矩阵\n",
    "        def calc_gw(w):\n",
    "            return np.array([[calc_dfw(i, w) for i in range(self._n)]]).T\n",
    "\n",
    "        # （1）初始正定对称矩阵，单位矩阵\n",
    "        Gk = np.array(np.eye(len(self.w), dtype=float))\n",
    "\n",
    "        # （2）计算g(w0)\n",
    "        w = self.w\n",
    "        gk = calc_gw(w)\n",
    "        # 判断gk的范数是否小于阈值\n",
    "        if np.linalg.norm(gk, ord=2) < self.epsilon:\n",
    "            self.w = w\n",
    "            return\n",
    "\n",
    "        k = 0\n",
    "        for _ in range(self.max_iter):\n",
    "            # （3）计算pk\n",
    "            pk = -Gk.dot(gk)\n",
    "\n",
    "            # 梯度方向的一维函数\n",
    "            def _f(x):\n",
    "                z = w + np.dot(x, pk).T[0]\n",
    "                return self.calc_f(z)\n",
    "\n",
    "            # （4）进行一维搜索，找到使得函数最小的lambda\n",
    "            _lambda = fminbound(_f, -self.distance, self.distance)\n",
    "\n",
    "            delta_k = _lambda * pk\n",
    "            # （5）更新权重\n",
    "            w += delta_k.T[0]\n",
    "\n",
    "            # （6）计算gk+1\n",
    "            gk1 = calc_gw(w)\n",
    "            # 判断gk1的范数是否小于阈值\n",
    "            if np.linalg.norm(gk1, ord=2) < self.epsilon:\n",
    "                self.w = w\n",
    "                break\n",
    "            # 根据DFP算法的迭代公式（附录B.24公式）计算Gk\n",
    "            yk = gk1 - gk\n",
    "            Pk = delta_k.dot(delta_k.T) / (delta_k.T.dot(yk))\n",
    "            Qk = Gk.dot(yk).dot(yk.T).dot(Gk) / (yk.T.dot(Gk).dot(yk)) * (-1)\n",
    "            Gk = Gk + Pk + Qk\n",
    "            gk = gk1\n",
    "\n",
    "            # （7）置k=k+1\n",
    "            k += 1\n",
    "\n",
    "        self.w = w\n",
    "        self.n_iter_ = k\n",
    "\n",
    "    def predict(self, x):\n",
    "        result = {}\n",
    "        for y in self._y:\n",
    "            prob = self.calc_pw_yx(x, y, self.w)\n",
    "            result[y] = prob\n",
    "\n",
    "        return result"
   ]
  },
  {
   "cell_type": "code",
   "execution_count": 4,
   "metadata": {},
   "outputs": [
    {
     "name": "stdout",
     "output_type": "stream",
     "text": [
      "模型训练迭代次数：878次\n",
      "模型权重：[ 11.72083082  -0.7189626    9.69699232  -8.83693899   5.57382082\n",
      "  19.50768089   0.7189626   -9.69699232   8.83693899  -4.5237319\n",
      "   9.15646808  -6.6123125   12.96011049   4.5237319    6.6123125\n",
      " -12.96011049  -5.57382082  -9.15646808 -11.72083082]\n",
      "预测结果： {'no': 2.097720173362797e-16, 'yes': 0.9999999999999998}\n"
     ]
    }
   ],
   "source": [
    "# 训练数据集\n",
    "dataset = np.array([['no', 'sunny', 'hot', 'high', 'FALSE'],\n",
    "                    ['no', 'sunny', 'hot', 'high', 'TRUE'],\n",
    "                    ['yes', 'overcast', 'hot', 'high', 'FALSE'],\n",
    "                    ['yes', 'rainy', 'mild', 'high', 'FALSE'],\n",
    "                    ['yes', 'rainy', 'cool', 'normal', 'FALSE'],\n",
    "                    ['no', 'rainy', 'cool', 'normal', 'TRUE'],\n",
    "                    ['yes', 'overcast', 'cool', 'normal', 'TRUE'],\n",
    "                    ['no', 'sunny', 'mild', 'high', 'FALSE'],\n",
    "                    ['yes', 'sunny', 'cool', 'normal', 'FALSE'],\n",
    "                    ['yes', 'rainy', 'mild', 'normal', 'FALSE'],\n",
    "                    ['yes', 'sunny', 'mild', 'normal', 'TRUE'],\n",
    "                    ['yes', 'overcast', 'mild', 'high', 'TRUE'],\n",
    "                    ['yes', 'overcast', 'hot', 'normal', 'FALSE'],\n",
    "                    ['no', 'rainy', 'mild', 'high', 'TRUE']])\n",
    "\n",
    "X_train = dataset[:, 1:]\n",
    "y_train = dataset[:, 0]\n",
    "\n",
    "mae = MaxEntDFP(epsilon=1e-4, max_iter=1000, distance=0.01)\n",
    "# 训练模型\n",
    "mae.fit(X_train, y_train)\n",
    "print(\"模型训练迭代次数：{}次\".format(mae.n_iter_))\n",
    "print(\"模型权重：{}\".format(mae.w))\n",
    "\n",
    "result = mae.predict(['overcast', 'mild', 'high', 'FALSE'])\n",
    "print(\"预测结果：\", result)"
   ]
  }
 ],
 "metadata": {
  "kernelspec": {
   "display_name": "Python 3",
   "language": "python",
   "name": "python3"
  },
  "language_info": {
   "codemirror_mode": {
    "name": "ipython",
    "version": 3
   },
   "file_extension": ".py",
   "mimetype": "text/x-python",
   "name": "python",
   "nbconvert_exporter": "python",
   "pygments_lexer": "ipython3",
   "version": "3.7.9"
  },
  "toc": {
   "base_numbering": 1,
   "nav_menu": {},
   "number_sections": true,
   "sideBar": true,
   "skip_h1_title": false,
   "title_cell": "Table of Contents",
   "title_sidebar": "Contents",
   "toc_cell": false,
   "toc_position": {},
   "toc_section_display": true,
   "toc_window_display": false
  }
 },
 "nbformat": 4,
 "nbformat_minor": 1
}
